{
 "cells": [
  {
   "cell_type": "code",
   "execution_count": 3,
   "metadata": {},
   "outputs": [
    {
     "data": {
      "text/html": [
       "\n",
       "        <iframe\n",
       "            width=\"100%\"\n",
       "            height=\"650\"\n",
       "            src=\"http://127.0.0.1:8050/\"\n",
       "            frameborder=\"0\"\n",
       "            allowfullscreen\n",
       "            \n",
       "        ></iframe>\n",
       "        "
      ],
      "text/plain": [
       "<IPython.lib.display.IFrame at 0x1aeee650590>"
      ]
     },
     "metadata": {},
     "output_type": "display_data"
    }
   ],
   "source": [
    "#!/usr/bin/python\n",
    "# -*- coding: <encoding name> -*-\n",
    "\n",
    "from dash import Dash, html, dcc\n",
    "import plotly.express as px\n",
    "import pandas as pd\n",
    "\n",
    "df = px.data.iris() # iris data 불러오기\n",
    "# plotly를 이용한 산점도\n",
    "fig = px.scatter(df, x=\"sepal_length\", y=\"sepal_width\", \n",
    "                  color=\"species\")\n",
    "\n",
    "app = Dash(__name__)\n",
    "# app layout: html과 dcc 모듈을 이용\n",
    "app.layout = html.Div(children=[\n",
    "    # Dash HTML Components module로 HTML 작성 \n",
    "    html.H1(children='첫번째 Dash 연습'),\n",
    "    html.Div(children='''\n",
    "        대시를 이용하여 웹어플리케이션 작성 연습...\n",
    "    '''),\n",
    "    # dash.core.component(dcc)의 그래프컴포넌트로 plotly 그래프 렌더링\n",
    "    dcc.Graph(\n",
    "        id='graph1',\n",
    "        figure=fig\n",
    "    )\n",
    "])\n",
    "\n",
    "if __name__ == '__main__':\n",
    "    app.run_server(debug=True)\n",
    "    #app.run_server(debug=False, host='0.0.0.0', port=8888)"
   ]
  },
  {
   "cell_type": "code",
   "execution_count": 5,
   "metadata": {},
   "outputs": [
    {
     "data": {
      "text/html": [
       "\n",
       "        <iframe\n",
       "            width=\"100%\"\n",
       "            height=\"650\"\n",
       "            src=\"http://127.0.0.1:8050/\"\n",
       "            frameborder=\"0\"\n",
       "            allowfullscreen\n",
       "            \n",
       "        ></iframe>\n",
       "        "
      ],
      "text/plain": [
       "<IPython.lib.display.IFrame at 0x1aeecccb510>"
      ]
     },
     "metadata": {},
     "output_type": "display_data"
    }
   ],
   "source": [
    "# 필요한 라이브러리 임포트\n",
    "import dash\n",
    "from dash import html, dcc, Input, Output\n",
    "import plotly.express as px\n",
    "import pandas as pd\n",
    "\n",
    "# 외부 스타일시트 추가 (Bootstrap)\n",
    "external_stylesheets = ['https://cdn.jsdelivr.net/npm/bootstrap@5.3.0/dist/css/bootstrap.min.css',\n",
    "                        'https://fonts.googleapis.com/css2?family=Noto+Sans+KR:wght@400;700&display=swap']# Noto Sans KR 폰트 추가\n",
    "app = dash.Dash(__name__, external_stylesheets=external_stylesheets)\n",
    "\n",
    "# 데이터 로드\n",
    "gapminder = px.data.gapminder()\n",
    "\n",
    "# 레이아웃 설정\n",
    "app.layout = html.Div([\n",
    "    html.H1(\"부동산 가격 변수 EDA\", className='text-center', style={'font-family': 'Noto Sans KR'}),\n",
    "    dcc.Markdown('''\n",
    "        ## 프로젝트 개요\n",
    "        이 대시보드는 **부동산 가격**의 다양한 영향 요소들을 분석하기 위한 것입니다. \n",
    "        분석된 데이터는 2015년부터 2024년까지의 기간을 포함하고 있으며, 다음과 같은 변수들을 포함합니다:\n",
    "\n",
    "        - 매매지수\n",
    "        - 금리\n",
    "        - 대출 규모\n",
    "        - 등등\n",
    "\n",
    "        ### 분석 결과\n",
    "        이 섹션에서는 각 변수들의 영향력과 상관관계를 **시각적으로 분석**합니다. \n",
    "        - '매매지수'는 부동산 가격 변동과 높은 상관관계를 보이며, 다른 변수들과의 관계도 중요합니다.\n",
    "        \n",
    "        #### 상세 분석\n",
    "        - **매매지수**가 상승할 때, 대체적으로 부동산 가격도 상승하는 경향이 있습니다.\n",
    "        - 금리의 변동은 부동산 시장에 직접적인 영향을 미치며, 특히 **단기 금리**의 영향이 큽니다.\n",
    "\n",
    "        ###### 데이터 출처\n",
    "        모든 데이터는 공공 데이터 소스에서 수집되었으며, 정확성을 기하기 위해 다양한 검증 과정을 거쳤습니다.\n",
    "    ''', className='p-3'),\n",
    "    html.Div([\n",
    "        html.Div([dcc.Graph(id='graph1')], className='col-md-6'),\n",
    "        html.Div([dcc.Graph(id='graph2')], className='col-md-6'),\n",
    "    ], className='row'),\n",
    "    html.Div([\n",
    "        html.Div([dcc.Graph(id='graph3')], className='col-md-6'),\n",
    "        html.Div([dcc.Graph(id='graph4')], className='col-md-6'),\n",
    "    ], className='row'),\n",
    "    \n",
    "    html.Button(\"Update Data\", id='button', className='btn btn-primary mt-3')\n",
    "])\n",
    "\n",
    "# 콜백 설정\n",
    "@app.callback(\n",
    "    [Output('graph1', 'figure'),\n",
    "     Output('graph2', 'figure'),\n",
    "     Output('graph3', 'figure'),\n",
    "     Output('graph4', 'figure')],\n",
    "    [Input('button', 'n_clicks')]\n",
    ")\n",
    "def update_graph(n_clicks):\n",
    "    df = pd.DataFrame({\n",
    "        \"Genre\": [\"Drama\", \"Comedy\", \"Action\", \"Thriller\"],\n",
    "        \"Count\": [1500, 1000, 500, 200]\n",
    "    })\n",
    "    fig1 = px.line(df, x='Genre', y=df['Count'].cumsum(), title=\"부동산 가격\")\n",
    "    fig2 = px.line(df, x='Genre', y='Count', title=\"금리\")\n",
    "    fig3 = px.scatter(df, x='Genre', y='Count', title=\"분포\")\n",
    "    fig4 = px.pie(df, names='Genre', values='Count', title=\"공사비 비중\")\n",
    "    return [fig1, fig2, fig3, fig4]\n",
    "\n",
    "# 서버 실행\n",
    "if __name__ == '__main__':\n",
    "    app.run_server(debug=True)\n"
   ]
  },
  {
   "cell_type": "code",
   "execution_count": 6,
   "metadata": {},
   "outputs": [
    {
     "data": {
      "text/html": [
       "\n",
       "        <iframe\n",
       "            width=\"100%\"\n",
       "            height=\"650\"\n",
       "            src=\"http://127.0.0.1:8050/\"\n",
       "            frameborder=\"0\"\n",
       "            allowfullscreen\n",
       "            \n",
       "        ></iframe>\n",
       "        "
      ],
      "text/plain": [
       "<IPython.lib.display.IFrame at 0x1aeee797510>"
      ]
     },
     "metadata": {},
     "output_type": "display_data"
    }
   ],
   "source": [
    "import dash\n",
    "from dash import dcc, html\n",
    "from dash.dependencies import Input, Output\n",
    "import plotly.express as px\n",
    "\n",
    "# 데이터 로드\n",
    "gapminder = px.data.gapminder()\n",
    "\n",
    "# Dash 앱 초기화\n",
    "app = dash.Dash(__name__)\n",
    "\n",
    "# 앱 레이아웃 설정\n",
    "app.layout = html.Div([\n",
    "    dcc.Dropdown(\n",
    "        id='xaxis-column',\n",
    "        options=[{'label': i, 'value': i} for i in gapminder.columns if gapminder[i].dtype in ['float64', 'int64']],\n",
    "        value='gdpPercap'\n",
    "    ),\n",
    "    dcc.Graph(id='indicator-graphic')\n",
    "])\n",
    "\n",
    "# 콜백 함수로 그래프 업데이트\n",
    "@app.callback(\n",
    "    Output('indicator-graphic', 'figure'),\n",
    "    [Input('xaxis-column', 'value')]\n",
    ")\n",
    "def update_graph(xaxis_column_name):\n",
    "    return px.scatter(gapminder, x=xaxis_column_name, y='lifeExp',\n",
    "                      size='pop', color='continent',\n",
    "                      log_x=True, template='plotly_white')\n",
    "\n",
    "# 앱 실행\n",
    "if __name__ == '__main__':\n",
    "    app.run_server(debug=True)\n"
   ]
  }
 ],
 "metadata": {
  "kernelspec": {
   "display_name": "base",
   "language": "python",
   "name": "python3"
  },
  "language_info": {
   "codemirror_mode": {
    "name": "ipython",
    "version": 3
   },
   "file_extension": ".py",
   "mimetype": "text/x-python",
   "name": "python",
   "nbconvert_exporter": "python",
   "pygments_lexer": "ipython3",
   "version": "3.11.7"
  }
 },
 "nbformat": 4,
 "nbformat_minor": 2
}
